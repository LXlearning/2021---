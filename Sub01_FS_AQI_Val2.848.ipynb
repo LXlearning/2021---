{
 "cells": [
  {
   "cell_type": "code",
   "execution_count": 20,
   "id": "07b84d30",
   "metadata": {
    "ExecuteTime": {
     "end_time": "2021-09-23T14:13:27.620036Z",
     "start_time": "2021-09-23T14:13:27.599554Z"
    }
   },
   "outputs": [],
   "source": [
    "import numpy as np\n",
    "import pandas as pd\n",
    "\n",
    "from sklearn.linear_model import LinearRegression\n",
    "from sklearn.preprocessing import LabelEncoder\n",
    "from sklearn.metrics import mean_squared_error, mean_absolute_error,r2_score\n",
    "from lightgbm.sklearn import LGBMRegressor\n",
    "from sklearn.model_selection import KFold,StratifiedKFold\n",
    "import time\n",
    "from tqdm.notebook import tqdm\n",
    "import os\n",
    "\n",
    "import warnings\n",
    "warnings.filterwarnings('ignore')\n",
    "\n",
    "pd.set_option('display.max_rows',800)\n",
    "pd.set_option('display.max_columns',400)"
   ]
  },
  {
   "cell_type": "code",
   "execution_count": 21,
   "id": "9315050e",
   "metadata": {
    "ExecuteTime": {
     "end_time": "2021-09-23T14:13:27.651260Z",
     "start_time": "2021-09-23T14:13:27.623748Z"
    },
    "scrolled": true
   },
   "outputs": [],
   "source": [
    "df_train = pd.read_csv(r'data/环境空气质量评价挑战赛_复赛数据集/train.csv')\n",
    "df_test = pd.read_csv(r'data/环境空气质量评价挑战赛_复赛数据集/test.csv')\n",
    "df = pd.concat([df_train, df_test]).reset_index(drop=True)\n",
    "\n",
    "result_path = './sub'\n",
    "if not os.path.exists(result_path): # 如果不存在则创建目录\n",
    "    os.makedirs(result_path)"
   ]
  },
  {
   "cell_type": "markdown",
   "id": "611ea6b3",
   "metadata": {},
   "source": [
    "## 特征工程"
   ]
  },
  {
   "cell_type": "markdown",
   "id": "fc6889d0",
   "metadata": {},
   "source": [
    "### IAQI计算"
   ]
  },
  {
   "cell_type": "code",
   "execution_count": 22,
   "id": "556715bc",
   "metadata": {
    "ExecuteTime": {
     "end_time": "2021-09-23T14:13:27.792797Z",
     "start_time": "2021-09-23T14:13:27.655632Z"
    }
   },
   "outputs": [],
   "source": [
    "def IAQI_cal(x,xbins):\n",
    "    if x<xbins[1]:\n",
    "        IAQI = (x-xbins[0])/(xbins[1]-xbins[0])*50\n",
    "    elif xbins[1]<=x<xbins[2]:\n",
    "        IAQI = (x-xbins[1])/(xbins[2]-xbins[1])*50 + 50\n",
    "    elif xbins[2]<=x<xbins[3]:\n",
    "        IAQI = (x-xbins[2])/(xbins[3]-xbins[2])*50 + 100\n",
    "    elif xbins[3]<=x<xbins[4]:\n",
    "        IAQI = (x-xbins[3])/(xbins[4]-xbins[3])*50 + 150\n",
    "    elif xbins[4]<=x<xbins[5]:\n",
    "        IAQI = (x-xbins[4])/(xbins[5]-xbins[4])*100 + 200\n",
    "    elif xbins[5]<=x<xbins[6]:\n",
    "        IAQI = (x-xbins[5])/(xbins[6]-xbins[5])*100 + 300\n",
    "    elif xbins[6]<=x<xbins[7]:\n",
    "        IAQI = (x-xbins[6])/(xbins[7]-xbins[6])*100 + 400\n",
    "    elif x>=xbins[7]:\n",
    "        IAQI = 500\n",
    "    else:\n",
    "        print(x,'error')\n",
    "        IAQI=99999\n",
    "    IAQI = np.ceil(IAQI)\n",
    "    return IAQI\n",
    "\n",
    "# IAQI_cal(243,[0,35,75,115,150,250,350,500])\n",
    "\n",
    "PM2 = [0,35,75,115,150,250,350,500]\n",
    "PM10 = [0,50,150,250,350,420,500,600]\n",
    "SO2 = [0,50,150,475,800,1600,2100,2620]\n",
    "CO = [0,2,4,14,24,36,48,60]\n",
    "NO2 = [0,40,80,180,280,565,750,940]\n",
    "O3 = [0,100,160,215,265,800,10000,10000]\n",
    "col_bin = ['PM2', 'PM10', 'SO2', 'CO', 'NO2', 'O3']\n",
    "col_IAQI = []\n",
    "\n",
    "# 计算每个指标的IAQI值\n",
    "for col,xbin in zip(['PM2_5', 'PM10', 'SO2', 'CO', 'NO2', 'O3'],col_bin):\n",
    "    df[f'{col}_I'] = df[col].apply(lambda x: IAQI_cal(x,eval(xbin)))\n",
    "    col_IAQI.append(f'{col}_I')\n",
    "df['IAQI'] = df[col_IAQI].max(axis=1)\n",
    "\n",
    "cols_ = []\n",
    "df['NO2flag'] = df.apply(lambda x: 1 if x['NO2_I']==x['IAQI'] else 0,axis=1)\n",
    "for col in col_IAQI:\n",
    "    df[f'{col}-'] = df[col]/np.power(df['IAQI'],1.1)#1.1\n",
    "    cols_.append(f'{col}-')"
   ]
  },
  {
   "cell_type": "markdown",
   "id": "1e66f8bf",
   "metadata": {},
   "source": [
    "### 质量等级分解"
   ]
  },
  {
   "cell_type": "code",
   "execution_count": 23,
   "id": "0ae37cb1",
   "metadata": {
    "ExecuteTime": {
     "end_time": "2021-09-23T14:13:27.823877Z",
     "start_time": "2021-09-23T14:13:27.796200Z"
    }
   },
   "outputs": [],
   "source": [
    "df.loc[(df['IAQI']<=50),'质量等级'] = 1\n",
    "df.loc[(50<df['IAQI'])&(df['IAQI']<=100),'质量等级'] = 2\n",
    "df.loc[(100<df['IAQI'])&(df['IAQI']<=150),'质量等级'] = 3\n",
    "df.loc[(150<df['IAQI'])&(df['IAQI']<=200),'质量等级'] = 4\n",
    "df.loc[(200<df['IAQI'])&(df['IAQI']<=300),'质量等级'] = 5\n",
    "df.loc[(300<df['IAQI'])&(df['IAQI']<=400),'质量等级'] = 6\n",
    "\n",
    "\n",
    "df['label'] = df['AQI'] - df['IAQI']\n",
    "df[f'PM-'] = df['PM10_I']-df['PM2_5_I']"
   ]
  },
  {
   "cell_type": "markdown",
   "id": "34b7b15f",
   "metadata": {},
   "source": [
    "### 特征筛选"
   ]
  },
  {
   "cell_type": "code",
   "execution_count": 24,
   "id": "d08e7b68",
   "metadata": {
    "ExecuteTime": {
     "end_time": "2021-09-23T14:13:27.839701Z",
     "start_time": "2021-09-23T14:13:27.826399Z"
    },
    "scrolled": true
   },
   "outputs": [
    {
     "name": "stdout",
     "output_type": "stream",
     "text": [
      "['IAQI', 'PM2_5_I-', 'PM10_I-', 'NO2_I-', 'O3_I-', '质量等级']\n"
     ]
    }
   ],
   "source": [
    "df_train = df[~df['AQI'].isnull()]\n",
    "df_test = df[df['AQI'].isnull()].reset_index(drop=True)\n",
    "\n",
    "feats = [x for x in df.columns if x not in \n",
    "         ['date', 'AQI', 'label','IPRC','PM-',\n",
    "          'PM2_5_I', 'PM10_I', 'SO2_I', 'CO_I', 'NO2_I', 'O3_I',\n",
    "          'PM2_5', 'PM10', 'SO2', 'NO2', 'CO', 'O3','SO2_I-', 'CO_I-',\n",
    "         'PM10_mean','Levels', 'new_label', 'IAQI_sum/AQI', 'w', 'b','NO2flag']]\n",
    "\n",
    "print(feats)\n"
   ]
  },
  {
   "cell_type": "markdown",
   "id": "424636b9",
   "metadata": {},
   "source": [
    "## model"
   ]
  },
  {
   "cell_type": "code",
   "execution_count": 25,
   "id": "66773dd3",
   "metadata": {
    "ExecuteTime": {
     "end_time": "2021-09-23T14:13:30.442617Z",
     "start_time": "2021-09-23T14:13:27.841823Z"
    },
    "scrolled": true
   },
   "outputs": [
    {
     "data": {
      "application/vnd.jupyter.widget-view+json": {
       "model_id": "2f171c0a1a304722a1ca8674d8948324",
       "version_major": 2,
       "version_minor": 0
      },
      "text/plain": [
       "0it [00:00, ?it/s]"
      ]
     },
     "metadata": {},
     "output_type": "display_data"
    },
    {
     "data": {
      "text/plain": [
       "0.434"
      ]
     },
     "execution_count": 25,
     "metadata": {},
     "output_type": "execute_result"
    },
    {
     "name": "stdout",
     "output_type": "stream",
     "text": [
      "Trn_rmse: 2.014  Val_rmse: 2.614\n"
     ]
    },
    {
     "data": {
      "text/plain": [
       "2.90927707429499"
      ]
     },
     "execution_count": 25,
     "metadata": {},
     "output_type": "execute_result"
    }
   ],
   "source": [
    "def build_model_lgb(trn_x, trn_y, val_x, val_y):\n",
    "    model = LGBMRegressor(learning_rate=0.701398375, #0.10361,\n",
    "                            boosting_type='gbdt',\n",
    "                            n_estimators=10000,\n",
    "                            objective='mse',\n",
    "                            subsample=0.7, \n",
    "                            colsample_bytree=0.5,\n",
    "                            num_leaves=352,#82,\n",
    "                            reg_lambda=4,#0.6,\n",
    "                            n_jobs=-1,\n",
    "                          random_state=2020)\n",
    "    \n",
    "    model.fit(trn_x, trn_y,\n",
    "                eval_set=[(val_x, val_y)],\n",
    "                eval_metric='mse',\n",
    "                early_stopping_rounds=1000,\n",
    "                verbose=False)\n",
    "    \n",
    "    # model.best_ntree_limit在early_stopping_rounds中生成\n",
    "    trn_pred  = model.predict(trn_x)#.reshape(-1,1) \n",
    "    val_pred  = model.predict(val_x)#.reshape(-1,1) \n",
    "    \n",
    "    return trn_pred, val_pred, model\n",
    "\n",
    "Val_rmses = []\n",
    "Trn_rmses = []\n",
    "R2s = []\n",
    "pred_y = 0\n",
    "importance = 0\n",
    "feat_importance = pd.DataFrame()\n",
    "\n",
    "fold_num = 5\n",
    "skf = KFold(n_splits=fold_num, shuffle=True, random_state=2021)\n",
    "\n",
    "for i, (trn_idx, val_idx) in tqdm(enumerate(skf.split(df_train[feats], df_train['label']))):\n",
    "    trn_x, trn_y = df_train.loc[trn_idx,feats].reset_index(drop=True), df_train.loc[trn_idx,'label'].reset_index(drop=True)\n",
    "    val_x, val_y = df_train.loc[val_idx,feats].reset_index(drop=True), df_train.loc[val_idx,'label'].reset_index(drop=True)\n",
    "    trn_pred, val_pred, model = build_model_lgb(trn_x, trn_y, val_x, val_y)\n",
    "    \n",
    "    # 真实标签\n",
    "    trn_pred_label = trn_pred + df_train.loc[trn_idx,'IAQI']\n",
    "    val_pred_label = val_pred + df_train.loc[val_idx,'IAQI']\n",
    "    Trn_rmse = np.power(mean_squared_error(df_train.loc[trn_idx,'AQI'], trn_pred_label), 0.5)\n",
    "    Val_rmse = np.power(mean_squared_error(df_train.loc[val_idx,'AQI'], val_pred_label), 0.5)\n",
    "    Val_rmses.append(Val_rmse)\n",
    "    Trn_rmses.append(Trn_rmse)\n",
    "    R_2 = r2_score(df_train.loc[val_idx,'label'],val_pred)\n",
    "    df_train.loc[val_idx,'pred'] = val_pred_label\n",
    "    R2s.append(round(R_2,2))\n",
    "    # 重要度\n",
    "    importance += model.booster_.feature_importance(importance_type='gain')/5\n",
    "\n",
    "    \n",
    "    pred_y += model.predict(df_test[feats])/fold_num\n",
    "\n",
    "Trn_rmse_mean = np.mean(Trn_rmses)\n",
    "Valr_rmse_mean = np.mean(Val_rmses)\n",
    "np.mean(R2s)\n",
    "# print('MSE:',np.round(Trn_rmses,fold_num),'\\n',np.round(Val_rmses,fold_num))\n",
    "print('Trn_rmse: %.3f'% Trn_rmse_mean,' Val_rmse: %.3f' % Valr_rmse_mean)\n",
    "np.power(mean_squared_error(df_train['AQI'], df_train['pred']), 0.5)"
   ]
  },
  {
   "cell_type": "code",
   "execution_count": 26,
   "id": "da0c4b31",
   "metadata": {
    "ExecuteTime": {
     "end_time": "2021-09-23T14:13:30.488927Z",
     "start_time": "2021-09-23T14:13:30.446466Z"
    }
   },
   "outputs": [
    {
     "data": {
      "text/plain": [
       "2.853745366660779"
      ]
     },
     "execution_count": 26,
     "metadata": {},
     "output_type": "execute_result"
    }
   ],
   "source": [
    "df_train['pred'] = df_train.apply(lambda x: 48.615*x['PM10_I-']-34.869+x['IAQI'] if x['IAQI']<=40\n",
    "                                  else 55.613*x['PM10_I-']-39.112+x['IAQI'] if 40<=x['IAQI']<=45\n",
    "                                  else x['pred'],axis=1)\n",
    "score = np.power(mean_squared_error(df_train['AQI'], df_train['pred']), 0.5)\n",
    "score"
   ]
  },
  {
   "cell_type": "code",
   "execution_count": 27,
   "id": "3846dc60",
   "metadata": {
    "ExecuteTime": {
     "end_time": "2021-09-23T14:13:30.534985Z",
     "start_time": "2021-09-23T14:13:30.492187Z"
    }
   },
   "outputs": [],
   "source": [
    "# 计算IPRC\n",
    "df_test['AQI'] = pred_y + df_test['IAQI']\n",
    "# 校正1\n",
    "df_test['AQI'] = df_test.apply(lambda x: 48.615*x['PM10_I-']-34.869+x['IAQI'] if x['IAQI']<=40\n",
    "                                  else 55.613*x['PM10_I-']-39.112+x['IAQI'] if 40<=x['IAQI']<=45\n",
    "                                  else x['AQI'],axis=1)\n",
    "## 校正2\n",
    "df_test['AQI'] = df_test.apply(lambda x: x['PM10_I']if (x['NO2flag']==1)&(x['IAQI']>50)\n",
    "                               else x['AQI'] ,axis=1)\n",
    "## 校正3\n",
    "df_test['AQI'] = df_test.apply(lambda x:0.5*x['PM-'] - 24.5+x['IAQI'] if x['PM-']>75\n",
    "                               else x['PM-']-69+x['IAQI'] if (x['PM-']>=70)&(x['PM-']<75)\n",
    "                               else x['AQI'] ,axis=1)"
   ]
  },
  {
   "cell_type": "code",
   "execution_count": 28,
   "id": "74c206d8",
   "metadata": {
    "ExecuteTime": {
     "end_time": "2021-09-23T14:13:30.565211Z",
     "start_time": "2021-09-23T14:13:30.537980Z"
    }
   },
   "outputs": [],
   "source": [
    "sub = pd.read_csv('./sub/IPRC_lgb_Trn159_Val177.csv')\n",
    "sub['AQI'] = df_test['AQI']\n",
    "sub.to_csv(f'./sub/sub.csv',index=False)"
   ]
  },
  {
   "cell_type": "code",
   "execution_count": null,
   "id": "608281df",
   "metadata": {},
   "outputs": [],
   "source": []
  }
 ],
 "metadata": {
  "kernelspec": {
   "display_name": "Python 3",
   "language": "python",
   "name": "python3"
  },
  "language_info": {
   "codemirror_mode": {
    "name": "ipython",
    "version": 3
   },
   "file_extension": ".py",
   "mimetype": "text/x-python",
   "name": "python",
   "nbconvert_exporter": "python",
   "pygments_lexer": "ipython3",
   "version": "3.8.8"
  },
  "toc": {
   "base_numbering": 1,
   "nav_menu": {},
   "number_sections": true,
   "sideBar": true,
   "skip_h1_title": false,
   "title_cell": "Table of Contents",
   "title_sidebar": "Contents",
   "toc_cell": false,
   "toc_position": {
    "height": "calc(100% - 180px)",
    "left": "10px",
    "top": "150px",
    "width": "255.969px"
   },
   "toc_section_display": true,
   "toc_window_display": true
  }
 },
 "nbformat": 4,
 "nbformat_minor": 5
}
